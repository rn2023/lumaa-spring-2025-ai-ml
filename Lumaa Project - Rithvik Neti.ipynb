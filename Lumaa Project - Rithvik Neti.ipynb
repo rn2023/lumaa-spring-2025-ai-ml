{
 "cells": [
  {
   "cell_type": "markdown",
   "id": "6924f2e2-4136-494d-873e-5ce8da252e5a",
   "metadata": {},
   "source": [
    "## Lumaa AI/ML Project - Rithvik Neti"
   ]
  },
  {
   "cell_type": "code",
   "execution_count": 1,
   "id": "522a7c91-9382-4fc2-9618-436c7f8f0f43",
   "metadata": {},
   "outputs": [
    {
     "name": "stdout",
     "output_type": "stream",
     "text": [
      "Requirement already satisfied: numpy in /Users/rithvikneti/anaconda3/lib/python3.11/site-packages (from -r requirements.txt (line 1)) (1.26.4)\n",
      "Requirement already satisfied: pandas in /Users/rithvikneti/anaconda3/lib/python3.11/site-packages (from -r requirements.txt (line 2)) (1.5.3)\n",
      "Requirement already satisfied: scikit-learn in /Users/rithvikneti/anaconda3/lib/python3.11/site-packages (from -r requirements.txt (line 3)) (1.4.1.post1)\n",
      "Requirement already satisfied: python-dateutil>=2.8.1 in /Users/rithvikneti/anaconda3/lib/python3.11/site-packages (from pandas->-r requirements.txt (line 2)) (2.8.2)\n",
      "Requirement already satisfied: pytz>=2020.1 in /Users/rithvikneti/anaconda3/lib/python3.11/site-packages (from pandas->-r requirements.txt (line 2)) (2023.3.post1)\n",
      "Requirement already satisfied: scipy>=1.6.0 in /Users/rithvikneti/anaconda3/lib/python3.11/site-packages (from scikit-learn->-r requirements.txt (line 3)) (1.12.0)\n",
      "Requirement already satisfied: joblib>=1.2.0 in /Users/rithvikneti/anaconda3/lib/python3.11/site-packages (from scikit-learn->-r requirements.txt (line 3)) (1.3.2)\n",
      "Requirement already satisfied: threadpoolctl>=2.0.0 in /Users/rithvikneti/anaconda3/lib/python3.11/site-packages (from scikit-learn->-r requirements.txt (line 3)) (3.4.0)\n",
      "Requirement already satisfied: six>=1.5 in /Users/rithvikneti/anaconda3/lib/python3.11/site-packages (from python-dateutil>=2.8.1->pandas->-r requirements.txt (line 2)) (1.16.0)\n"
     ]
    }
   ],
   "source": [
    "!pip install -r requirements.txt\n",
    "#Install the requirements"
   ]
  },
  {
   "cell_type": "code",
   "execution_count": 2,
   "id": "e48b4af1-5f13-42d5-8ab1-d8500b3720c5",
   "metadata": {},
   "outputs": [],
   "source": [
    "import pandas as pd\n",
    "import numpy as np\n",
    "from sklearn.feature_extraction.text import TfidfVectorizer\n",
    "from sklearn.metrics.pairwise import cosine_similarity\n",
    "\n",
    "#Import necessary libraries"
   ]
  },
  {
   "cell_type": "code",
   "execution_count": 3,
   "id": "94fa9c75-d273-497f-b5f5-9b0373de45f6",
   "metadata": {},
   "outputs": [],
   "source": [
    "movies_df = pd.read_csv('movies.csv')\n",
    "#Turn the movies csv file into a Pandas DataFrame\n",
    "\n",
    "limit_movies_df = movies_df.sample(500)\n",
    "#Randomly choose 500 movies to maintain the project contraints\n",
    "\n",
    "filtered_movies_df = limit_movies_df[['Series_Title', 'Overview', 'IMDB_Rating']]\n",
    "#Filter the DataFrame to contain"
   ]
  },
  {
   "cell_type": "code",
   "execution_count": 4,
   "id": "3d9f8c2a-9445-4ae1-b494-6ecb5079cf39",
   "metadata": {},
   "outputs": [],
   "source": [
    "def vectorize(description, n_results):\n",
    "    overview_list = filtered_movies_df['Overview'].tolist()\n",
    "    #Transform all the overview into a\n",
    "    \n",
    "    tdidf_list = overview_list + [description]\n",
    "        \n",
    "    vectorization = TfidfVectorizer()\n",
    "    \n",
    "    tdidf_matrix = vectorization.fit_transform(tdidf_list)\n",
    "\n",
    "    return tdidf_matrix"
   ]
  },
  {
   "cell_type": "code",
   "execution_count": 5,
   "id": "0e9e8ab9-c510-4904-b41d-41f1f5622424",
   "metadata": {},
   "outputs": [],
   "source": [
    "def similarity_compute(tdidf_matrix):\n",
    "    similarity_scores = cosine_similarity(tdidf_matrix[:-1], tdidf_matrix[-1]).flatten()\n",
    "    #Compute cosine similarity for the description against all the overviews\n",
    "    \n",
    "    top_n_indices = np.argsort(similarity_scores)[-n_results:]\n",
    "    #Retrieve the indices of the n_results most similar movies\n",
    "    \n",
    "    sorted_indices = top_n_indices[np.argsort(filtered_movies_df.iloc[top_n_indices]['IMDB_Rating'])[::-1]]\n",
    "    #Sort the indices based on the rating of the movies to show the best movies first\n",
    "    \n",
    "    top_movies = filtered_movies_df.iloc[sorted_indices]['Series_Title'].tolist()\n",
    "    #Get the names of the movies based on the sorted indices\n",
    "\n",
    "    return top_movies"
   ]
  },
  {
   "cell_type": "code",
   "execution_count": 6,
   "id": "99f9d6f3-5b52-4651-9bf5-b678359d9deb",
   "metadata": {},
   "outputs": [
    {
     "name": "stdin",
     "output_type": "stream",
     "text": [
      "Enter Movie Description: Show me action and comedy movies with a twist\n"
     ]
    },
    {
     "name": "stdout",
     "output_type": "stream",
     "text": [
      "The Truman Show\n",
      "Clerks\n",
      "(500) Days of Summer\n",
      "Frost/Nixon\n",
      "50/50\n"
     ]
    }
   ],
   "source": [
    "description = input('Enter Movie Description:')\n",
    "n_results = 5\n",
    "#Set description and number of results \n",
    "\n",
    "matrix = vectorize(description, n_results)\n",
    "#Output the returned TD-IDF matrix\n",
    "\n",
    "movies_result = similarity_compute(matrix)\n",
    "#Returns the best movies of the closest similarity\n",
    "\n",
    "for movie in movies_result:\n",
    "    print(movie)\n",
    "\n",
    "#Print each movie in the result for a clean output"
   ]
  }
 ],
 "metadata": {
  "kernelspec": {
   "display_name": "Python 3 (ipykernel)",
   "language": "python",
   "name": "python3"
  },
  "language_info": {
   "codemirror_mode": {
    "name": "ipython",
    "version": 3
   },
   "file_extension": ".py",
   "mimetype": "text/x-python",
   "name": "python",
   "nbconvert_exporter": "python",
   "pygments_lexer": "ipython3",
   "version": "3.11.5"
  }
 },
 "nbformat": 4,
 "nbformat_minor": 5
}
